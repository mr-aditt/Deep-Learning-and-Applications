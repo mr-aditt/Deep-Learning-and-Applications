{
 "cells": [
  {
   "cell_type": "markdown",
   "metadata": {},
   "source": [
    "### Github: https://github.com/mr-aditt/Deep-Learning-and-Applications "
   ]
  },
  {
   "cell_type": "code",
   "execution_count": 1,
   "metadata": {},
   "outputs": [],
   "source": [
    "# Dataset XOR\n",
    "X = [[1,1],\n",
    "    [1,0],\n",
    "    [0,1],\n",
    "    [0,0]]\n",
    "t = [1,-1,-1,-1]"
   ]
  },
  {
   "cell_type": "code",
   "execution_count": 2,
   "metadata": {},
   "outputs": [],
   "source": [
    "def train_test_split(X,y,split_size):\n",
    "\n",
    "    #train data\n",
    "    Xtrain=X[:round(len(X)*(1-split_size))]\n",
    "    ytrain=y[:round(len(X)*(1-split_size))]\n",
    "    \n",
    "    #test data\n",
    "    Xtest=X[round(len(X)*(1-split_size)):]\n",
    "    ytest=y[round(len(X)*(1-split_size)):]\n",
    "    \n",
    "    return Xtrain, Xtest, ytrain, ytest\n",
    "    \n",
    "\n",
    "def sigmoid(y):\n",
    "    if y>0.2:\n",
    "        return 1\n",
    "    elif y>=0.2 and y<=0.2:\n",
    "        return 0\n",
    "    else:\n",
    "        return -1\n",
    "    \n",
    "def train(X,y):\n",
    "    \n",
    "    while True:\n",
    "        try:\n",
    "            w=[float(element) for element in input('Enter initial weights:').split()]\n",
    "            if len(w)<2:\n",
    "                raise()\n",
    "            break\n",
    "        except:\n",
    "            print(\"Error Invalid input. Weights input format: w1(space)w2\")\n",
    "    b=float(input('Enter initial bias:'))\n",
    "        \n",
    "    flag = 0\n",
    "    for epoch in range(100): # Number of epoch = 100. If nedd user input then replace 100 with int(input('Enter epochs:'))\n",
    "        # Stopping Condition - If no change in weights and bias then break\n",
    "        if flag == 1:\n",
    "            break\n",
    "        print('epoch:',epoch)\n",
    "        flag = 1\n",
    "        for i in range(len(X)):\n",
    "            x=X[i]\n",
    "            T=t[i]\n",
    "            \n",
    "            y_hat = b + w[0]*x[0]+w[1]*x[1]\n",
    "            y = sigmoid(y_hat)\n",
    "            \n",
    "            if y != T:\n",
    "                w[0]=w[0]+x[0]*T\n",
    "                w[1]=w[1]+x[1]*T\n",
    "                b=b+T\n",
    "                flag = 0\n",
    "            \n",
    "            print('w1={},w2={},b={}'.format(w[0],w[1],b))\n",
    "    return (w,b)\n",
    "\n",
    "def predict(Xtest,ytest,w,b):\n",
    "#     # Take X1,X2 and y from user \n",
    "#     while True:\n",
    "#         try:\n",
    "#             Xtest = [int(element) for element in input('Enter X1 and X2:').split()]\n",
    "#             print(Xtest.shape())\n",
    "#              if len(X)<2:\n",
    "#                  raise()\n",
    "#             ytest = int(input('Enter expected output:'))\n",
    "#             break\n",
    "#         except:\n",
    "#             print('Error Invalid Input. Input format X1(space)X2')\n",
    "    \n",
    "    # Prediction\n",
    "    count = 0\n",
    "    total = len(Xtest)\n",
    "    for i in range(len(Xtest)):\n",
    "        y = sigmoid(b + (w[0]*Xtest[i][0]) + (w[1]*Xtest[i][1]))\n",
    "        if y==ytest[0]:\n",
    "            count+=1\n",
    "            print(f'Prediction is correct: y = {y} and ytest = {ytest[i]}')\n",
    "        else:\n",
    "            print(f'Prediction is incorrect: y = {y} and ytest = {ytest[i]}')\n",
    "    return count,total\n",
    "\n",
    "def accuracy(count, total):\n",
    "    return (count/total)*100"
   ]
  },
  {
   "cell_type": "code",
   "execution_count": 3,
   "metadata": {},
   "outputs": [],
   "source": [
    "def main():\n",
    "    try:\n",
    "        split_size = float(input('Enter the split size (between 0-1):'))\n",
    "    except:\n",
    "        print('Error: Invalid input')\n",
    "    Xtrain, Xtest, ytrain, ytest = train_test_split(X,t,split_size)\n",
    "    print(f'XTrain:{Xtrain}\\tytrain:{ytrain}')\n",
    "    print(f'Xtest:{Xtest}\\tytest:{ytest}')\n",
    "    w,b = train(Xtrain,ytrain)\n",
    "    print(f'Weights are:',end='')\n",
    "    for i in range(len(w)):\n",
    "        print(w[i],end=' ')\n",
    "    print(f'Bias:{b}')\n",
    "    \n",
    "#     print(predict(Xtest,ytest,w,b))\n",
    "    return w,b"
   ]
  },
  {
   "cell_type": "code",
   "execution_count": 4,
   "metadata": {},
   "outputs": [
    {
     "name": "stdout",
     "output_type": "stream",
     "text": [
      "Enter the split size (between 0-1):0.3\n",
      "XTrain:[[1, 1], [1, 0], [0, 1]]\tytrain:[1, -1, -1]\n",
      "Xtest:[[0, 0]]\tytest:[-1]\n",
      "Enter initial weights:0 0\n",
      "Enter initial bias:0\n",
      "epoch: 0\n",
      "w1=1.0,w2=1.0,b=1.0\n",
      "w1=0.0,w2=1.0,b=0.0\n",
      "w1=0.0,w2=0.0,b=-1.0\n",
      "epoch: 1\n",
      "w1=1.0,w2=1.0,b=0.0\n",
      "w1=0.0,w2=1.0,b=-1.0\n",
      "w1=0.0,w2=1.0,b=-1.0\n",
      "epoch: 2\n",
      "w1=1.0,w2=2.0,b=0.0\n",
      "w1=0.0,w2=2.0,b=-1.0\n",
      "w1=0.0,w2=1.0,b=-2.0\n",
      "epoch: 3\n",
      "w1=1.0,w2=2.0,b=-1.0\n",
      "w1=1.0,w2=2.0,b=-1.0\n",
      "w1=1.0,w2=1.0,b=-2.0\n",
      "epoch: 4\n",
      "w1=2.0,w2=2.0,b=-1.0\n",
      "w1=1.0,w2=2.0,b=-2.0\n",
      "w1=1.0,w2=2.0,b=-2.0\n",
      "epoch: 5\n",
      "w1=1.0,w2=2.0,b=-2.0\n",
      "w1=1.0,w2=2.0,b=-2.0\n",
      "w1=1.0,w2=2.0,b=-2.0\n",
      "Weights are:1.0 2.0 Bias:-2.0\n"
     ]
    }
   ],
   "source": [
    "# Start program\n",
    "w,b = main()"
   ]
  },
  {
   "cell_type": "code",
   "execution_count": 5,
   "metadata": {},
   "outputs": [
    {
     "name": "stdout",
     "output_type": "stream",
     "text": [
      "Enter X1 and X2:0 0\n",
      "Enter y:-1\n",
      "Prediction is correct: y = -1 and ytest = -1\n",
      "Accuracy: 100.0%\n"
     ]
    }
   ],
   "source": [
    "count,total = predict([[int(element) for element in input(\"Enter X1 and X2:\").split()]],[int(input(\"Enter y:\"))],w,b)\n",
    "print(f'Accuracy: {accuracy(count,total)}%')"
   ]
  },
  {
   "cell_type": "code",
   "execution_count": null,
   "metadata": {},
   "outputs": [],
   "source": []
  }
 ],
 "metadata": {
  "kernelspec": {
   "display_name": "Python 3",
   "language": "python",
   "name": "python3"
  },
  "language_info": {
   "codemirror_mode": {
    "name": "ipython",
    "version": 3
   },
   "file_extension": ".py",
   "mimetype": "text/x-python",
   "name": "python",
   "nbconvert_exporter": "python",
   "pygments_lexer": "ipython3",
   "version": "3.8.5"
  }
 },
 "nbformat": 4,
 "nbformat_minor": 4
}
